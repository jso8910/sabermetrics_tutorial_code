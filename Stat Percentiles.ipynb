{
 "cells": [
  {
   "cell_type": "code",
   "execution_count": 14,
   "id": "5452e7a2",
   "metadata": {},
   "outputs": [],
   "source": [
    "stat_to_check = \"OPS\""
   ]
  },
  {
   "cell_type": "code",
   "execution_count": 3,
   "id": "62a27a99",
   "metadata": {},
   "outputs": [],
   "source": [
    "import pandas as pd\n",
    "import numpy as np"
   ]
  },
  {
   "cell_type": "code",
   "execution_count": 13,
   "id": "a0ce57dd",
   "metadata": {},
   "outputs": [],
   "source": [
    "with open(\"fangraphs-players.csv\") as f:\n",
    "    df = pd.read_csv(f)\n",
    "df[\"OPS\"] = df[\"OBP\"] + df[\"SLG\"]"
   ]
  },
  {
   "cell_type": "code",
   "execution_count": 16,
   "id": "cae639b1",
   "metadata": {},
   "outputs": [
    {
     "name": "stdout",
     "output_type": "stream",
     "text": [
      "| Percentile | OPS |\n",
      "| --- | --- |\n",
      "| 0.0 | 0.539 |\n",
      "| 0.1 | 0.678 |\n",
      "| 0.2 | 0.709 |\n",
      "| 0.3 | 0.732 |\n",
      "| 0.4 | 0.753 |\n",
      "| 0.5 | 0.776 |\n",
      "| 0.6 | 0.797 |\n",
      "| 0.7 | 0.821 |\n",
      "| 0.8 | 0.853 |\n",
      "| 0.9 | 0.900 |\n"
     ]
    }
   ],
   "source": [
    "table = df[stat_to_check].quantile(np.arange(0, .99, .1))\n",
    "print(f\"| Percentile | {stat_to_check} |\")\n",
    "print(\"| --- | --- |\")\n",
    "for percentile, value in table.items():\n",
    "    print(f\"| {percentile:.1f} | {value:.3f} |\")"
   ]
  }
 ],
 "metadata": {
  "kernelspec": {
   "display_name": "Python 3 (ipykernel)",
   "language": "python",
   "name": "python3"
  },
  "language_info": {
   "codemirror_mode": {
    "name": "ipython",
    "version": 3
   },
   "file_extension": ".py",
   "mimetype": "text/x-python",
   "name": "python",
   "nbconvert_exporter": "python",
   "pygments_lexer": "ipython3",
   "version": "3.9.12"
  }
 },
 "nbformat": 4,
 "nbformat_minor": 5
}
